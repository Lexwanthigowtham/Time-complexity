{
 "cells": [
  {
   "cell_type": "raw",
   "id": "2e4d3810-77d9-49aa-a49f-41226140e05d",
   "metadata": {},
   "source": [
    "PROBLEM 1\n",
    "def quicksort(arr):\n",
    "if len(arr) <= 1:\n",
    "return arr\n",
    "pivot = arr[len(arr) // 2]\n",
    "left = [x for x in arr if x < pivot]\n",
    "middle = [x for x in arr if x == pivot]\n",
    "right = [x for x in arr if x > pivot]\n",
    "return quicksort(left) + middle + quicksort(right)\n",
    "\n",
    "ANSWER:\n",
    "The time complexity of Quick Sort is O(n log n) on average case, but can become O(n^2) in the worst-case.\n",
    "The space complexity of Quick Sort in the best case is O(log n), while in the worst-case scenario, it becomes O(n) due to unbalanced partitioning causing a skewed recursion tree that requires a call stack of size O(n)\n",
    "\n",
    "\n"
   ]
  },
  {
   "cell_type": "raw",
   "id": "20c6f8a4-8aa3-471c-9aab-474567a0e1da",
   "metadata": {},
   "source": [
    "PROBLEM 2\n",
    "def nested_loop_example(matrix):\n",
    "rows, cols = len(matrix), len(matrix[0])\n",
    "total = 0\n",
    "for i in range(rows):\n",
    "for j in range(cols):\n",
    "total += matrix[i][j]\n",
    "return total\n",
    "\n",
    "ANSWER:\n",
    "Explanation: The first loop is O (N) and the second loop is O (M). Since N and M are independent variables, \n",
    "so we can’t say which one is the leading term. Therefore Time complexity of the given problem will be O (N+M). Since variables size does not depend on the size of the input, therefore Space Complexity will be constant or O (1)"
   ]
  },
  {
   "cell_type": "raw",
   "id": "e322b407-3d55-4f96-b046-57234d0dfa84",
   "metadata": {},
   "source": [
    "PROBLEM 4\n",
    "def longest_increasing_subsequence(nums):\n",
    "n = len(nums)\n",
    "lis = [1] * n\n",
    "for i in range(1, n):\n",
    "for j in range(0, i):\n",
    "if nums[i] > nums[j] and lis[i] < lis[j] + 1:\n",
    "lis[i] = lis[j] + 1\n",
    "return max(lis)\n",
    "\n",
    "\n",
    "ANSWER:\n",
    "Time Complexity: O(2n) The time complexity of this recursive approach is exponential as there is a case of overlapping subproblems as explained in the recursive tree diagram above.\n",
    "Auxiliary Space: O(1). No external space is used for storing values apart from the internal stack space\n"
   ]
  },
  {
   "cell_type": "raw",
   "id": "78c4c79d-5179-4983-a997-87301d3a9193",
   "metadata": {},
   "source": [
    "PROBLEM 5\n",
    "Problem 5 :\n",
    "def mysterious_function(arr):\n",
    "n = len(arr)\n",
    "result = 0\n",
    "for i in range(n):\n",
    "for j in range(i, n):\n",
    "result += arr[i] * arr[j]\n",
    "return result\n",
    "\n",
    "\n",
    "ANSWER:\n",
    "TIME COMPLEXITY:O(n)"
   ]
  },
  {
   "cell_type": "markdown",
   "id": "9eb29de7-ae8b-4c71-a10d-4cf3932838b2",
   "metadata": {},
   "source": [
    "RECURSSION:\n"
   ]
  },
  {
   "cell_type": "code",
   "execution_count": 1,
   "id": "78b6b1c6-861f-47df-9a1e-6e9d88264476",
   "metadata": {},
   "outputs": [
    {
     "name": "stdout",
     "output_type": "stream",
     "text": [
      "Sum of digits in 123 is 6\n"
     ]
    }
   ],
   "source": [
    "#6.SUM OF DIGITS\n",
    "# Recursive Python3 program to \n",
    "# find sum of digits of a number\n",
    "\n",
    "# Function to check sum of\n",
    "# digit using recursion\n",
    "def sum_of_digit( n ):\n",
    "    if n == 0:\n",
    "        return 0\n",
    "    return (n % 10 + sum_of_digit(int(n / 10)))\n",
    "\n",
    "# Driven code to check above\n",
    "num = 123\n",
    "result = sum_of_digit(num)\n",
    "print(\"Sum of digits in\",num,\"is\", result)"
   ]
  },
  {
   "cell_type": "code",
   "execution_count": 3,
   "id": "754696a6-476b-4d50-bd05-3a53ea900338",
   "metadata": {},
   "outputs": [
    {
     "name": "stdout",
     "output_type": "stream",
     "text": [
      "0 1 1 2 3 5 "
     ]
    }
   ],
   "source": [
    "#7. python code to print first n fibonacci numbers\n",
    " \n",
    " \n",
    "def fibonacci_numbers(num):\n",
    "    if num == 0:\n",
    "        return 0\n",
    "    elif num == 1:\n",
    "        return 1\n",
    "    else:\n",
    "        # printing fibonacci numbers\n",
    "        return fibonacci_numbers(num-2)+fibonacci_numbers(num-1)\n",
    " \n",
    " \n",
    "n = 6\n",
    "for i in range(0, n):\n",
    "    print(fibonacci_numbers(i), end=\" \")"
   ]
  },
  {
   "cell_type": "code",
   "execution_count": 4,
   "id": "2334c458-3e2c-4c00-8300-3e1ca4d76837",
   "metadata": {},
   "outputs": [
    {
     "name": "stdout",
     "output_type": "stream",
     "text": [
      "Found a subset with given sum\n"
     ]
    }
   ],
   "source": [
    "#8. A recursive solution for subset sum\n",
    "# problem\n",
    "\n",
    "\n",
    "# Returns true if there is a subset\n",
    "# of set[] with sun equal to given sum\n",
    "def isSubsetSum(set, n, sum):\n",
    "\n",
    "    # Base Cases\n",
    "    if (sum == 0):\n",
    "        return True\n",
    "    if (n == 0):\n",
    "        return False\n",
    "\n",
    "    # If last element is greater than\n",
    "    # sum, then ignore it\n",
    "    if (set[n - 1] > sum):\n",
    "        return isSubsetSum(set, n - 1, sum)\n",
    "\n",
    "    # Else, check if sum can be obtained\n",
    "    # by any of the following\n",
    "    # (a) including the last element\n",
    "    # (b) excluding the last element\n",
    "    return isSubsetSum(\n",
    "        set, n-1, sum) or isSubsetSum(\n",
    "        set, n-1, sum-set[n-1])\n",
    "\n",
    "\n",
    "# Driver code\n",
    "if __name__ == '__main__':\n",
    "    set = [3, 34, 4, 12, 5, 2]\n",
    "    sum = 9\n",
    "    n = len(set)\n",
    "    if (isSubsetSum(set, n, sum) == True):\n",
    "        print(\"Found a subset with given sum\")\n",
    "    else:\n",
    "        print(\"No subset with given sum\")"
   ]
  },
  {
   "cell_type": "code",
   "execution_count": 5,
   "id": "34ccc0fe-7263-45ff-8a75-f7162b395a49",
   "metadata": {},
   "outputs": [
    {
     "name": "stdout",
     "output_type": "stream",
     "text": [
      "True\n"
     ]
    }
   ],
   "source": [
    "# 9.Function to check if the given word can be broken\n",
    "# down into words from the wordList\n",
    "def wordBreak(wordList, word):\n",
    "    # If the word is empty, it can be broken down into\n",
    "    # an empty list of words\n",
    "    if not word:\n",
    "        return True\n",
    "    \n",
    "    wordLen = len(word)\n",
    "    \n",
    "    # Check if the word can be broken down into\n",
    "    # words from the wordList\n",
    "    for i in range(1, wordLen + 1):\n",
    "        prefix = word[:i]\n",
    "        \n",
    "        if prefix in wordList and wordBreak(wordList, word[i:]):\n",
    "            return True\n",
    "    \n",
    "    return False\n",
    "\n",
    "wordList = [\"mobile\", \"samsung\", \"sam\", \"sung\", \"man\",\n",
    "                \"mango\", \"icecream\", \"and\", \"go\", \"i\",\n",
    "                \"like\", \"ice\", \"cream\"]\n",
    "    \n",
    "result = wordBreak(wordList, \"ilikesamsung\")\n",
    "    \n",
    "print(result)"
   ]
  },
  {
   "cell_type": "code",
   "execution_count": null,
   "id": "89e39136-3c0b-43f0-8805-58fc775f85e3",
   "metadata": {},
   "outputs": [],
   "source": []
  }
 ],
 "metadata": {
  "kernelspec": {
   "display_name": "Python 3 (ipykernel)",
   "language": "python",
   "name": "python3"
  },
  "language_info": {
   "codemirror_mode": {
    "name": "ipython",
    "version": 3
   },
   "file_extension": ".py",
   "mimetype": "text/x-python",
   "name": "python",
   "nbconvert_exporter": "python",
   "pygments_lexer": "ipython3",
   "version": "3.10.8"
  }
 },
 "nbformat": 4,
 "nbformat_minor": 5
}
